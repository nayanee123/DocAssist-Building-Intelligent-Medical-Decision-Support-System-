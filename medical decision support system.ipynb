{
 "cells": [
  {
   "cell_type": "code",
   "execution_count": 16,
   "id": "99a75a70",
   "metadata": {},
   "outputs": [
    {
     "name": "stdout",
     "output_type": "stream",
     "text": [
      "First few rows of the dataset:\n",
      "   HAEMATOCRIT  HAEMOGLOBINS  ERYTHROCYTE  LEUCOCYTE  THROMBOCYTE       MCH  \\\n",
      "0    -0.741263     -0.791431    -0.465077  -0.824666    -0.966571 -0.604589   \n",
      "1     1.067467      0.600117     2.951586  -0.484022    -0.238711 -2.904196   \n",
      "2     0.782760      0.600117     0.032124  -0.504060     0.684427  0.879029   \n",
      "3     0.615285      0.792055     0.159612  -1.045083     0.151847  0.953210   \n",
      "4     0.397567      0.264226     0.389089   1.239237     4.013053 -0.307865   \n",
      "\n",
      "       MCHC       MCV       AGE       SEX    SOURCE  \n",
      "0 -0.430259 -0.536705 -0.623859 -1.055001  1.229849  \n",
      "1 -1.553074 -2.836043 -0.486690  0.947867 -0.813108  \n",
      "2 -0.590661  1.343257  1.067894 -1.055001 -0.813108  \n",
      "3  0.852957  0.735885 -1.309705 -1.055001 -0.813108  \n",
      "4 -0.430259 -0.131790 -0.486690  0.947867 -0.813108  \n",
      "\n",
      "Column names in the dataset:\n",
      "Index(['HAEMATOCRIT', 'HAEMOGLOBINS', 'ERYTHROCYTE', 'LEUCOCYTE',\n",
      "       'THROMBOCYTE', 'MCH', 'MCHC', 'MCV', 'AGE', 'SEX', 'SOURCE'],\n",
      "      dtype='object')\n"
     ]
    }
   ],
   "source": [
    "# Load the Dataset and Identify the Target Column :\n",
    "import pandas as pd\n",
    "\n",
    "# Load the dataset\n",
    "df = pd.read_csv('dataset(in).csv')\n",
    "\n",
    "# Display the first few rows and column names to identify the target column\n",
    "print(\"First few rows of the dataset:\")\n",
    "print(df.head())\n",
    "\n",
    "print(\"\\nColumn names in the dataset:\")\n",
    "print(df.columns)\n"
   ]
  },
  {
   "cell_type": "code",
   "execution_count": 10,
   "id": "68f0c221",
   "metadata": {},
   "outputs": [
    {
     "name": "stdout",
     "output_type": "stream",
     "text": [
      "int64\n",
      "float64\n",
      "object\n"
     ]
    }
   ],
   "source": [
    "import pandas as pd\n",
    "\n",
    "# Sample DataFrame\n",
    "data = {\n",
    "    'int_column': [1, 2, 3],\n",
    "    'float_column': [1.1, 2.2, 3.3],\n",
    "    'object_column': ['a', 'b', 'c']\n",
    "}\n",
    "\n",
    "df = pd.DataFrame(data)\n",
    "\n",
    "# Check dtypes of columns\n",
    "print(df['int_column'].dtype)  # Output: int64\n",
    "print(df['float_column'].dtype)  # Output: float64\n",
    "print(df['object_column'].dtype)  # Output: object\n"
   ]
  },
  {
   "cell_type": "code",
   "execution_count": 1,
   "id": "a59df4d8",
   "metadata": {},
   "outputs": [
    {
     "name": "stdout",
     "output_type": "stream",
     "text": [
      "\n",
      "Missing Values After Imputation:\n",
      "HAEMATOCRIT     0\n",
      "Sex             0\n",
      "HAEMOGLOBINS    0\n",
      "ERYTHROCYTE     0\n",
      "dtype: int64\n"
     ]
    }
   ],
   "source": [
    "import pandas as pd\n",
    "from sklearn.impute import SimpleImputer\n",
    "from sklearn.preprocessing import LabelEncoder\n",
    "import numpy as np\n",
    "from sklearn.model_selection import KFold\n",
    "from sklearn.ensemble import RandomForestClassifier\n",
    "from sklearn.metrics import accuracy_score\n",
    "\n",
    "# Example DataFrame, replace this with your actual DataFrame\n",
    "data = {\n",
    "    'HAEMATOCRIT': [-0.741263, np.nan, 1.067467, 0.782760, 0.615285, np.nan],\n",
    "    'Sex': ['Male', 'Female', np.nan, 'Male', 'Female', np.nan],\n",
    "    'HAEMOGLOBINS': [-0.791431, -0.600117, np.nan, 0.600117, 0.792055, np.nan],\n",
    "    'ERYTHROCYTE': [-0.465077, 2.951586, 0.032124, 0.159612, 0.389089, 0.159612]\n",
    "}\n",
    "\n",
    "df = pd.DataFrame(data)\n",
    "\n",
    "# Assuming 'TreatmentRecommendation' is your target column\n",
    "target_column = 'ERYTHROCYTE'  # Change this to the actual target column name\n",
    "\n",
    "# Separate numerical and categorical columns, excluding the target column\n",
    "numerical_cols = df.select_dtypes(include=[np.number]).columns.difference([target_column])\n",
    "categorical_cols = df.select_dtypes(include=[object]).columns.difference([target_column])\n",
    "\n",
    "# Handling missing values\n",
    "# For numerical columns, use the mean strategy\n",
    "if not numerical_cols.empty:\n",
    "    num_imputer = SimpleImputer(strategy='mean')\n",
    "    df[numerical_cols] = num_imputer.fit_transform(df[numerical_cols])\n",
    "\n",
    "# For categorical columns, use the most frequent strategy\n",
    "if not categorical_cols.empty:\n",
    "    cat_imputer = SimpleImputer(strategy='most_frequent')\n",
    "    df[categorical_cols] = cat_imputer.fit_transform(df[categorical_cols])\n",
    "\n",
    "# Encoding categorical variables\n",
    "label_encoders = {}\n",
    "for column in categorical_cols:\n",
    "    label_encoders[column] = LabelEncoder()\n",
    "    df[column] = label_encoders[column].fit_transform(df[column])\n",
    "\n",
    "# Verify if any columns still have missing values\n",
    "print(\"\\nMissing Values After Imputation:\")\n",
    "print(df.isnull().sum())\n"
   ]
  },
  {
   "cell_type": "code",
   "execution_count": 2,
   "id": "9de4ccd9",
   "metadata": {},
   "outputs": [],
   "source": [
    "# Feature Scaling :\n",
    "from sklearn.preprocessing import StandardScaler\n",
    "\n",
    "# Feature Scaling\n",
    "scaler = StandardScaler()\n",
    "df_scaled = pd.DataFrame(scaler.fit_transform(df), columns=df.columns)\n"
   ]
  },
  {
   "cell_type": "code",
   "execution_count": 3,
   "id": "924a3496",
   "metadata": {},
   "outputs": [
    {
     "name": "stdout",
     "output_type": "stream",
     "text": [
      "\n",
      "Features (X) shape: (6, 3)\n",
      "Target (y) shape: (6,)\n"
     ]
    }
   ],
   "source": [
    "# Split Data into Features and Target :\n",
    "# Separate features and target\n",
    "X = df_scaled.drop(columns=[target_column])\n",
    "y = df_scaled[target_column]\n",
    "\n",
    "# Check if X and y are correctly separated\n",
    "print(\"\\nFeatures (X) shape:\", X.shape)\n",
    "print(\"Target (y) shape:\", y.shape)\n"
   ]
  },
  {
   "cell_type": "code",
   "execution_count": 4,
   "id": "ce4d951d",
   "metadata": {},
   "outputs": [],
   "source": [
    "# Split Data into Training and Test Sets :\n",
    "\n",
    "from sklearn.model_selection import train_test_split\n",
    "\n",
    "# Split the data into training and test sets\n",
    "X_train, X_test, y_train, y_test = train_test_split(X, y, test_size=0.3, random_state=42)\n"
   ]
  },
  {
   "cell_type": "code",
   "execution_count": 5,
   "id": "7e82013a",
   "metadata": {},
   "outputs": [
    {
     "name": "stdout",
     "output_type": "stream",
     "text": [
      "Feature Engineering Completed.\n"
     ]
    }
   ],
   "source": [
    "\n",
    "# Example: Combine certain columns to create a new feature\n",
    "df['BLOOD TEST'] = df['HAEMATOCRIT'] / (df['HAEMOGLOBINS']/100)**2\n",
    "\n",
    "# Drop columns that are not useful\n",
    "df.drop(columns=['HAEMATOCRIT', 'HAEMOGLOBINS'], inplace=True)\n",
    "\n",
    "print(\"Feature Engineering Completed.\")\n"
   ]
  },
  {
   "cell_type": "code",
   "execution_count": 8,
   "id": "2be0f7be",
   "metadata": {},
   "outputs": [
    {
     "name": "stdout",
     "output_type": "stream",
     "text": [
      "\n",
      "Missing Values After Imputation:\n",
      "HAEMATOCRIT     0\n",
      "Sex             0\n",
      "HAEMOGLOBINS    0\n",
      "ERYTHROCYTE     0\n",
      "dtype: int64\n",
      "Mean Squared Error: 4.055577531298367\n"
     ]
    }
   ],
   "source": [
    "import pandas as pd\n",
    "from sklearn.impute import SimpleImputer\n",
    "from sklearn.preprocessing import LabelEncoder\n",
    "import numpy as np\n",
    "from sklearn.model_selection import train_test_split\n",
    "from sklearn.ensemble import RandomForestRegressor\n",
    "from sklearn.metrics import mean_squared_error\n",
    "\n",
    "# Example DataFrame, replace this with your actual DataFrame\n",
    "data = {\n",
    "    'HAEMATOCRIT': [-0.741263, np.nan, 1.067467, 0.782760, 0.615285, np.nan],\n",
    "    'Sex': ['Male', 'Female', np.nan, 'Male', 'Female', np.nan],\n",
    "    'HAEMOGLOBINS': [-0.791431, -0.600117, np.nan, 0.600117, 0.792055, np.nan],\n",
    "    'ERYTHROCYTE': [-0.465077, 2.951586, 0.032124, 0.159612, 0.389089, 0.159612]\n",
    "}\n",
    "\n",
    "df = pd.DataFrame(data)\n",
    "\n",
    "# Assuming 'TreatmentRecommendation' is your target column\n",
    "target_column = 'ERYTHROCYTE'  # Change this to the actual target column name\n",
    "\n",
    "# Separate numerical and categorical columns, excluding the target column\n",
    "numerical_cols = df.select_dtypes(include=[np.number]).columns.difference([target_column])\n",
    "categorical_cols = df.select_dtypes(include=[object]).columns.difference([target_column])\n",
    "\n",
    "# Handling missing values\n",
    "# For numerical columns, use the mean strategy\n",
    "if not numerical_cols.empty:\n",
    "    num_imputer = SimpleImputer(strategy='mean')\n",
    "    df[numerical_cols] = num_imputer.fit_transform(df[numerical_cols])\n",
    "\n",
    "# For categorical columns, use the most frequent strategy\n",
    "if not categorical_cols.empty:\n",
    "    cat_imputer = SimpleImputer(strategy='most_frequent')\n",
    "    df[categorical_cols] = cat_imputer.fit_transform(df[categorical_cols])\n",
    "\n",
    "# Encoding categorical variables\n",
    "label_encoders = {}\n",
    "for column in categorical_cols:\n",
    "    label_encoders[column] = LabelEncoder()\n",
    "    df[column] = label_encoders[column].fit_transform(df[column])\n",
    "\n",
    "# Verify if any columns still have missing values\n",
    "print(\"\\nMissing Values After Imputation:\")\n",
    "print(df.isnull().sum())\n",
    "\n",
    "# Split the data into training and test sets\n",
    "X = df.drop(columns=[target_column])\n",
    "y = df[target_column]\n",
    "\n",
    "X_train, X_test, y_train, y_test = train_test_split(X, y, test_size=0.2, random_state=42)\n",
    "\n",
    "# Train a RandomForestRegressor\n",
    "reg = RandomForestRegressor()\n",
    "reg.fit(X_train, y_train)\n",
    "\n",
    "# Predict on the test set\n",
    "y_pred = reg.predict(X_test)\n",
    "\n",
    "# Evaluate the model\n",
    "mse = mean_squared_error(y_test, y_pred)\n",
    "print(f\"Mean Squared Error: {mse}\")\n"
   ]
  },
  {
   "cell_type": "code",
   "execution_count": 9,
   "id": "2807ce88",
   "metadata": {},
   "outputs": [
    {
     "name": "stdout",
     "output_type": "stream",
     "text": [
      "Accuracy: 0.5\n"
     ]
    }
   ],
   "source": [
    "import pandas as pd\n",
    "from sklearn.impute import SimpleImputer\n",
    "from sklearn.preprocessing import LabelEncoder\n",
    "from sklearn.model_selection import train_test_split\n",
    "from sklearn.ensemble import RandomForestClassifier\n",
    "from sklearn.metrics import accuracy_score\n",
    "\n",
    "# Example DataFrame\n",
    "data = {\n",
    "    'HAEMATOCRIT': [-0.741263, np.nan, 1.067467, 0.782760, 0.615285, np.nan],\n",
    "    'Sex': ['Male', 'Female', np.nan, 'Male', 'Female', np.nan],\n",
    "    'HAEMOGLOBINS': [-0.791431, -0.600117, np.nan, 0.600117, 0.792055, np.nan],\n",
    "    'ERYTHROCYTE': [-0.465077, 2.951586, 0.032124, 0.159612, 0.389089, 0.159612]\n",
    "}\n",
    "\n",
    "df = pd.DataFrame(data)\n",
    "\n",
    "# Target column\n",
    "target_column = 'ERYTHROCYTE'\n",
    "\n",
    "# Separate numerical and categorical columns\n",
    "numerical_cols = df.select_dtypes(include=[np.number]).columns.difference([target_column])\n",
    "categorical_cols = df.select_dtypes(include=[object]).columns.difference([target_column])\n",
    "\n",
    "# Handling missing values\n",
    "# For numerical columns, use the mean strategy\n",
    "if not numerical_cols.empty:\n",
    "    num_imputer = SimpleImputer(strategy='mean')\n",
    "    df[numerical_cols] = num_imputer.fit_transform(df[numerical_cols])\n",
    "\n",
    "# For categorical columns, use the most frequent strategy\n",
    "if not categorical_cols.empty:\n",
    "    cat_imputer = SimpleImputer(strategy='most_frequent')\n",
    "    df[categorical_cols] = cat_imputer.fit_transform(df[categorical_cols])\n",
    "\n",
    "# Encoding categorical variables\n",
    "label_encoders = {}\n",
    "for column in categorical_cols:\n",
    "    label_encoders[column] = LabelEncoder()\n",
    "    df[column] = label_encoders[column].fit_transform(df[column])\n",
    "\n",
    "# Convert the continuous target variable to discrete classes\n",
    "df[target_column] = pd.cut(df[target_column], bins=3, labels=False)\n",
    "\n",
    "# Split the data into training and test sets\n",
    "X = df.drop(columns=[target_column])\n",
    "y = df[target_column]\n",
    "\n",
    "X_train, X_test, y_train, y_test = train_test_split(X, y, test_size=0.2, random_state=42)\n",
    "\n",
    "# Train a RandomForestClassifier\n",
    "clf = RandomForestClassifier()\n",
    "clf.fit(X_train, y_train)\n",
    "\n",
    "# Predict on the test set\n",
    "y_pred = clf.predict(X_test)\n",
    "\n",
    "# Evaluate the model\n",
    "accuracy = accuracy_score(y_test, y_pred)\n",
    "print(f\"Accuracy: {accuracy}\")\n"
   ]
  },
  {
   "cell_type": "code",
   "execution_count": 10,
   "id": "8a19c1fb",
   "metadata": {},
   "outputs": [
    {
     "name": "stdout",
     "output_type": "stream",
     "text": [
      "Mean Squared Error: 2.0\n"
     ]
    }
   ],
   "source": [
    "mse = mean_squared_error(y_test, y_pred)\n",
    "print(f\"Mean Squared Error: {mse}\")"
   ]
  },
  {
   "cell_type": "code",
   "execution_count": 12,
   "id": "da58630d",
   "metadata": {},
   "outputs": [
    {
     "name": "stdout",
     "output_type": "stream",
     "text": [
      "Feature ranking:\n",
      "1. feature HAEMOGLOBINS (0.0)\n",
      "2. feature Sex (0.0)\n",
      "3. feature HAEMATOCRIT (0.0)\n"
     ]
    },
    {
     "data": {
      "image/png": "[encoded data removed]",
      "text/plain": [
       "<Figure size 432x288 with 1 Axes>"
      ]
     },
     "metadata": {
      "needs_background": "light"
     },
     "output_type": "display_data"
    }
   ],
   "source": [
    "import matplotlib.pyplot as plt\n",
    "\n",
    "# Feature importance\n",
    "importances = clf.feature_importances_\n",
    "indices = np.argsort(importances)[::-1]\n",
    "\n",
    "# Print the feature ranking\n",
    "print(\"Feature ranking:\")\n",
    "\n",
    "for f in range(X.shape[1]):\n",
    "    print(f\"{f + 1}. feature {X.columns[indices[f]]} ({importances[indices[f]]})\")\n",
    "\n",
    "# Plot the feature importances of the forest\n",
    "plt.figure()\n",
    "plt.title(\"Feature importances\")\n",
    "plt.bar(range(X.shape[1]), importances[indices], align=\"center\")\n",
    "plt.xticks(range(X.shape[1]), [X.columns[i] for i in indices], rotation=90)\n",
    "plt.xlim([-1, X.shape[1]])\n",
    "plt.show()"
   ]
  },
  {
   "cell_type": "code",
   "execution_count": 13,
   "id": "5ab2ecb8",
   "metadata": {},
   "outputs": [
    {
     "name": "stdout",
     "output_type": "stream",
     "text": [
      "Requirement already satisfied: Flask in c:\\users\\91877\\anaconda3\\lib\\site-packages (1.1.2)\n",
      "Requirement already satisfied: Jinja2>=2.10.1 in c:\\users\\91877\\anaconda3\\lib\\site-packages (from Flask) (2.11.3)\n",
      "Requirement already satisfied: itsdangerous>=0.24 in c:\\users\\91877\\anaconda3\\lib\\site-packages (from Flask) (1.1.0)\n",
      "Requirement already satisfied: click>=5.1 in c:\\users\\91877\\anaconda3\\lib\\site-packages (from Flask) (7.1.2)\n",
      "Requirement already satisfied: Werkzeug>=0.15 in c:\\users\\91877\\anaconda3\\lib\\site-packages (from Flask) (1.0.1)\n",
      "Requirement already satisfied: MarkupSafe>=0.23 in c:\\users\\91877\\anaconda3\\lib\\site-packages (from Jinja2>=2.10.1->Flask) (1.1.1)\n"
     ]
    }
   ],
   "source": [
    "!pip install Flask"
   ]
  },
  {
   "cell_type": "code",
   "execution_count": 1,
   "id": "db86f449",
   "metadata": {},
   "outputs": [
    {
     "name": "stdout",
     "output_type": "stream",
     "text": [
      "Requirement already satisfied: Flask in c:\\users\\91877\\anaconda3\\lib\\site-packages (1.1.2)\n",
      "Collecting flask-talisman\n",
      "  Downloading flask_talisman-1.1.0-py2.py3-none-any.whl (18 kB)\n",
      "Requirement already satisfied: itsdangerous>=0.24 in c:\\users\\91877\\anaconda3\\lib\\site-packages (from Flask) (1.1.0)\n",
      "Requirement already satisfied: Werkzeug>=0.15 in c:\\users\\91877\\anaconda3\\lib\\site-packages (from Flask) (1.0.1)\n",
      "Requirement already satisfied: click>=5.1 in c:\\users\\91877\\anaconda3\\lib\\site-packages (from Flask) (7.1.2)\n",
      "Requirement already satisfied: Jinja2>=2.10.1 in c:\\users\\91877\\anaconda3\\lib\\site-packages (from Flask) (2.11.3)\n",
      "Requirement already satisfied: MarkupSafe>=0.23 in c:\\users\\91877\\anaconda3\\lib\\site-packages (from Jinja2>=2.10.1->Flask) (1.1.1)\n",
      "Installing collected packages: flask-talisman\n",
      "Successfully installed flask-talisman-1.1.0\n"
     ]
    }
   ],
   "source": [
    "!pip install Flask flask-talisman\n"
   ]
  },
  {
   "cell_type": "code",
   "execution_count": null,
   "id": "f664a225",
   "metadata": {},
   "outputs": [],
   "source": []
  }
 ],
 "metadata": {
  "kernelspec": {
   "display_name": "Python 3",
   "language": "python",
   "name": "python3"
  },
  "language_info": {
   "codemirror_mode": {
    "name": "ipython",
    "version": 3
   },
   "file_extension": ".py",
   "mimetype": "text/x-python",
   "name": "python",
   "nbconvert_exporter": "python",
   "pygments_lexer": "ipython3",
   "version": "3.8.8"
  }
 },
 "nbformat": 4,
 "nbformat_minor": 5
}
